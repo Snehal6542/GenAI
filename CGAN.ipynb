{
 "cells": [
  {
   "cell_type": "code",
   "execution_count": 1,
   "id": "d4b75c7e-fd9a-40b3-9171-9be8daef7642",
   "metadata": {},
   "outputs": [
    {
     "name": "stdout",
     "output_type": "stream",
     "text": [
      "hello\n"
     ]
    }
   ],
   "source": [
    "print(\"hello\")"
   ]
  },
  {
   "cell_type": "code",
   "execution_count": 4,
   "id": "34e9b789-bb41-4ada-ae4c-06358accfc5e",
   "metadata": {},
   "outputs": [
    {
     "name": "stdout",
     "output_type": "stream",
     "text": [
      "Defaulting to user installation because normal site-packages is not writeable\n",
      "Requirement already satisfied: torch in c:\\users\\sneha\\appdata\\roaming\\python\\python312\\site-packages (2.6.0)\n",
      "Requirement already satisfied: torchvision in c:\\users\\sneha\\appdata\\roaming\\python\\python312\\site-packages (0.21.0)\n",
      "Requirement already satisfied: matplotlib in c:\\programdata\\anaconda3\\lib\\site-packages (3.9.2)\n",
      "Requirement already satisfied: numpy in c:\\programdata\\anaconda3\\lib\\site-packages (1.26.4)\n",
      "Requirement already satisfied: opencv-python in c:\\users\\sneha\\appdata\\roaming\\python\\python312\\site-packages (4.11.0.86)\n",
      "Requirement already satisfied: filelock in c:\\programdata\\anaconda3\\lib\\site-packages (from torch) (3.13.1)\n",
      "Requirement already satisfied: typing-extensions>=4.10.0 in c:\\programdata\\anaconda3\\lib\\site-packages (from torch) (4.11.0)\n",
      "Requirement already satisfied: networkx in c:\\programdata\\anaconda3\\lib\\site-packages (from torch) (3.3)\n",
      "Requirement already satisfied: jinja2 in c:\\programdata\\anaconda3\\lib\\site-packages (from torch) (3.1.4)\n",
      "Requirement already satisfied: fsspec in c:\\programdata\\anaconda3\\lib\\site-packages (from torch) (2024.6.1)\n",
      "Requirement already satisfied: setuptools in c:\\programdata\\anaconda3\\lib\\site-packages (from torch) (75.1.0)\n",
      "Requirement already satisfied: sympy==1.13.1 in c:\\users\\sneha\\appdata\\roaming\\python\\python312\\site-packages (from torch) (1.13.1)\n",
      "Requirement already satisfied: mpmath<1.4,>=1.1.0 in c:\\programdata\\anaconda3\\lib\\site-packages (from sympy==1.13.1->torch) (1.3.0)\n",
      "Requirement already satisfied: pillow!=8.3.*,>=5.3.0 in c:\\programdata\\anaconda3\\lib\\site-packages (from torchvision) (10.4.0)\n",
      "Requirement already satisfied: contourpy>=1.0.1 in c:\\programdata\\anaconda3\\lib\\site-packages (from matplotlib) (1.2.0)\n",
      "Requirement already satisfied: cycler>=0.10 in c:\\programdata\\anaconda3\\lib\\site-packages (from matplotlib) (0.11.0)\n",
      "Requirement already satisfied: fonttools>=4.22.0 in c:\\programdata\\anaconda3\\lib\\site-packages (from matplotlib) (4.51.0)\n",
      "Requirement already satisfied: kiwisolver>=1.3.1 in c:\\programdata\\anaconda3\\lib\\site-packages (from matplotlib) (1.4.4)\n",
      "Requirement already satisfied: packaging>=20.0 in c:\\programdata\\anaconda3\\lib\\site-packages (from matplotlib) (24.1)\n",
      "Requirement already satisfied: pyparsing>=2.3.1 in c:\\programdata\\anaconda3\\lib\\site-packages (from matplotlib) (3.1.2)\n",
      "Requirement already satisfied: python-dateutil>=2.7 in c:\\programdata\\anaconda3\\lib\\site-packages (from matplotlib) (2.9.0.post0)\n",
      "Requirement already satisfied: six>=1.5 in c:\\programdata\\anaconda3\\lib\\site-packages (from python-dateutil>=2.7->matplotlib) (1.16.0)\n",
      "Requirement already satisfied: MarkupSafe>=2.0 in c:\\programdata\\anaconda3\\lib\\site-packages (from jinja2->torch) (2.1.3)\n"
     ]
    }
   ],
   "source": [
    "!pip install torch torchvision matplotlib numpy opencv-python"
   ]
  },
  {
   "cell_type": "code",
   "execution_count": 2,
   "id": "3c1c6e52-9684-45b6-9d97-e2ee441dae27",
   "metadata": {},
   "outputs": [],
   "source": [
    "import torch\n",
    "import torch.nn as nn\n",
    "import torch.optim as optim\n",
    "from torchvision import transforms\n",
    "from torch.utils.data import Dataset, DataLoader\n",
    "import numpy as np\n",
    "import matplotlib.pyplot as plt\n",
    "import cv2\n",
    "import random\n"
   ]
  },
  {
   "cell_type": "code",
   "execution_count": 3,
   "id": "e509872e-1a00-4672-a585-1003c8d389fc",
   "metadata": {},
   "outputs": [],
   "source": [
    "class ShapeDataset(Dataset):\n",
    "    def __init__(self, num_samples=1000, img_size=28):\n",
    "        self.img_size = img_size\n",
    "        self.num_samples = num_samples\n",
    "        self.shapes = ['circle', 'square', 'triangle']\n",
    "        self.data = []\n",
    "        self.labels = []\n",
    "        self._generate_dataset()\n",
    "\n",
    "    def _generate_shape(self, shape):\n",
    "        img = np.zeros((self.img_size, self.img_size), dtype=np.uint8)\n",
    "        if shape == \"circle\":\n",
    "            cv2.circle(img, (14, 14), 7, 255, -1)\n",
    "        elif shape == \"square\":\n",
    "            cv2.rectangle(img, (7, 7), (21, 21), 255, -1)\n",
    "        elif shape == \"triangle\":\n",
    "            pts = np.array([[14, 6], [6, 22], [22, 22]], np.int32)\n",
    "            cv2.drawContours(img, [pts], 0, 255, -1)\n",
    "        return img\n",
    "\n",
    "    def _generate_dataset(self):\n",
    "        for _ in range(self.num_samples):\n",
    "            shape = random.choice(self.shapes)\n",
    "            img = self._generate_shape(shape)\n",
    "            label = self.shapes.index(shape)\n",
    "            self.data.append(img)\n",
    "            self.labels.append(label)\n",
    "\n",
    "    def __len__(self):\n",
    "        return self.num_samples\n",
    "\n",
    "    def __getitem__(self, idx):\n",
    "        img = self.data[idx]\n",
    "        img = img.astype(np.float32) / 255.0\n",
    "        img = torch.tensor(img).view(-1)\n",
    "        label = torch.tensor(self.labels[idx])\n",
    "        return img, label\n"
   ]
  },
  {
   "cell_type": "code",
   "execution_count": 4,
   "id": "230cb171-c516-4ce7-a17f-2585214ee8c2",
   "metadata": {},
   "outputs": [],
   "source": [
    "def one_hot(labels, num_classes=3):\n",
    "    return torch.nn.functional.one_hot(labels, num_classes=num_classes).float()\n"
   ]
  },
  {
   "cell_type": "code",
   "execution_count": 5,
   "id": "28ea6e33-ee9c-4a98-9d5b-464b3a75d4a5",
   "metadata": {},
   "outputs": [],
   "source": [
    "class Generator(nn.Module):\n",
    "    def __init__(self, noise_dim=100, label_dim=3, img_dim=784):\n",
    "        super().__init__()\n",
    "        self.model = nn.Sequential(\n",
    "            nn.Linear(noise_dim + label_dim, 128),\n",
    "            nn.ReLU(),\n",
    "            nn.Linear(128, img_dim),\n",
    "            nn.Tanh()\n",
    "        )\n",
    "\n",
    "    def forward(self, noise, labels):\n",
    "        x = torch.cat([noise, labels], dim=1)\n",
    "        return self.model(x)\n",
    "\n",
    "\n",
    "class Discriminator(nn.Module):\n",
    "    def __init__(self, img_dim=784, label_dim=3):\n",
    "        super().__init__()\n",
    "        self.model = nn.Sequential(\n",
    "            nn.Linear(img_dim + label_dim, 128),\n",
    "            nn.LeakyReLU(0.2),\n",
    "            nn.Linear(128, 1),\n",
    "            nn.Sigmoid()\n",
    "        )\n",
    "\n",
    "    def forward(self, img, labels):\n",
    "        x = torch.cat([img, labels], dim=1)\n",
    "        return self.model(x)\n"
   ]
  },
  {
   "cell_type": "code",
   "execution_count": 6,
   "id": "c1843e03-7741-4a9d-bc66-21f86199c362",
   "metadata": {},
   "outputs": [
    {
     "name": "stdout",
     "output_type": "stream",
     "text": [
      "Epoch [10/100] D_loss: 1.0205 G_loss: 0.7795\n",
      "Epoch [20/100] D_loss: 0.5236 G_loss: 1.5170\n",
      "Epoch [30/100] D_loss: 0.6590 G_loss: 1.1509\n",
      "Epoch [40/100] D_loss: 1.1093 G_loss: 0.7199\n",
      "Epoch [50/100] D_loss: 0.8369 G_loss: 1.0521\n",
      "Epoch [60/100] D_loss: 0.8204 G_loss: 1.1396\n",
      "Epoch [70/100] D_loss: 0.8846 G_loss: 0.9703\n",
      "Epoch [80/100] D_loss: 0.8517 G_loss: 1.0540\n",
      "Epoch [90/100] D_loss: 0.5439 G_loss: 1.4744\n",
      "Epoch [100/100] D_loss: 0.6320 G_loss: 1.3770\n"
     ]
    }
   ],
   "source": [
    "# Hyperparameters\n",
    "epochs = 100\n",
    "batch_size = 64\n",
    "noise_dim = 100\n",
    "lr = 0.0002\n",
    "\n",
    "# Data\n",
    "dataset = ShapeDataset()\n",
    "dataloader = DataLoader(dataset, batch_size=batch_size, shuffle=True)\n",
    "\n",
    "# Models\n",
    "generator = Generator(noise_dim=noise_dim)\n",
    "discriminator = Discriminator()\n",
    "\n",
    "# Loss and Optimizers\n",
    "criterion = nn.BCELoss()\n",
    "optimizer_G = optim.Adam(generator.parameters(), lr=lr)\n",
    "optimizer_D = optim.Adam(discriminator.parameters(), lr=lr)\n",
    "\n",
    "# Training Loop\n",
    "for epoch in range(epochs):\n",
    "    for real_imgs, labels in dataloader:\n",
    "        batch_size = real_imgs.size(0)\n",
    "        real_labels = torch.ones(batch_size, 1)\n",
    "        fake_labels = torch.zeros(batch_size, 1)\n",
    "\n",
    "        # One-hot encode labels\n",
    "        labels_onehot = one_hot(labels)\n",
    "\n",
    "        # Train Discriminator\n",
    "        z = torch.randn(batch_size, noise_dim)\n",
    "        fake_imgs = generator(z, labels_onehot).detach()\n",
    "\n",
    "        d_real = discriminator(real_imgs, labels_onehot)\n",
    "        d_fake = discriminator(fake_imgs, labels_onehot)\n",
    "\n",
    "        d_loss = criterion(d_real, real_labels) + criterion(d_fake, fake_labels)\n",
    "\n",
    "        optimizer_D.zero_grad()\n",
    "        d_loss.backward()\n",
    "        optimizer_D.step()\n",
    "\n",
    "        # Train Generator\n",
    "        z = torch.randn(batch_size, noise_dim)\n",
    "        fake_imgs = generator(z, labels_onehot)\n",
    "        d_fake = discriminator(fake_imgs, labels_onehot)\n",
    "        g_loss = criterion(d_fake, real_labels)\n",
    "\n",
    "        optimizer_G.zero_grad()\n",
    "        g_loss.backward()\n",
    "        optimizer_G.step()\n",
    "\n",
    "    if (epoch+1) % 10 == 0:\n",
    "        print(f\"Epoch [{epoch+1}/{epochs}] D_loss: {d_loss.item():.4f} G_loss: {g_loss.item():.4f}\")\n"
   ]
  },
  {
   "cell_type": "code",
   "execution_count": null,
   "id": "fa5cb0a8-4fd6-47ad-9993-c02bb5c47b02",
   "metadata": {},
   "outputs": [],
   "source": [
    "def generate_and_plot(label_text):\n",
    "    label_dict = {'circle': 0, 'square': 1, 'triangle': 2}\n",
    "    label = torch.tensor([label_dict[label_text]])\n",
    "    label_onehot = one_hot(label)\n",
    "    noise = torch.randn(1, noise_dim)\n",
    "    with torch.no_grad():\n",
    "        fake_img = generator(noise, label_onehot).view(28, 28)\n",
    "    plt.imshow(fake_img.cpu(), cmap='gray')\n",
    "    plt.title(f'Generated: {label_text}')\n",
    "    plt.axis('off')\n",
    "    plt.show()\n",
    "\n",
    "generate_and_plot(\"circle\")\n",
    "generate_and_plot(\"square\")\n",
    "generate_and_plot(\"triangle\")\n"
   ]
  },
  {
   "cell_type": "code",
   "execution_count": 1,
   "id": "c1a8884b-304f-4013-aacd-1664bcef8fce",
   "metadata": {},
   "outputs": [
    {
     "data": {
      "image/png": "[encoded data removed]",
      "text/plain": [
       "<Figure size 800x300 with 3 Axes>"
      ]
     },
     "metadata": {},
     "output_type": "display_data"
    }
   ],
   "source": [
    "from PIL import Image, ImageDraw\n",
    "import matplotlib.pyplot as plt\n",
    "import numpy as np\n",
    "\n",
    "def draw_shape(label, size=(28, 28)):\n",
    "    img = Image.new('L', size, color=0)\n",
    "    draw = ImageDraw.Draw(img)\n",
    "    if label == \"circle\":\n",
    "        draw.ellipse((6, 6, 22, 22), fill=255)\n",
    "    elif label == \"square\":\n",
    "        draw.rectangle((6, 6, 22, 22), fill=255)\n",
    "    elif label == \"triangle\":\n",
    "        draw.polygon([(14, 4), (4, 24), (24, 24)], fill=255)\n",
    "    return img\n",
    "\n",
    "# Just draw and display one of each shape (no saving to files)\n",
    "labels = ['circle', 'square', 'triangle']\n",
    "images = [draw_shape(label) for label in labels]\n",
    "\n",
    "# Display safely\n",
    "fig, axes = plt.subplots(1, 3, figsize=(8, 3))\n",
    "for ax, img, label in zip(axes, images, labels):\n",
    "    ax.imshow(np.array(img), cmap='gray')\n",
    "    ax.set_title(label)\n",
    "    ax.axis('off')\n",
    "\n",
    "plt.tight_layout()\n",
    "plt.show()\n"
   ]
  },
  {
   "cell_type": "code",
   "execution_count": null,
   "id": "2db5a40c-c632-4228-a1b1-eeca8ef9f06f",
   "metadata": {},
   "outputs": [],
   "source": []
  }
 ],
 "metadata": {
  "kernelspec": {
   "display_name": "Python 3 (ipykernel)",
   "language": "python",
   "name": "python3"
  },
  "language_info": {
   "codemirror_mode": {
    "name": "ipython",
    "version": 3
   },
   "file_extension": ".py",
   "mimetype": "text/x-python",
   "name": "python",
   "nbconvert_exporter": "python",
   "pygments_lexer": "ipython3",
   "version": "3.12.7"
  }
 },
 "nbformat": 4,
 "nbformat_minor": 5
}
